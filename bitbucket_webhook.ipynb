{
 "cells": [
  {
   "cell_type": "code",
   "execution_count": 1,
   "metadata": {
    "collapsed": false
   },
   "outputs": [],
   "source": [
    "import requests\n"
   ]
  },
  {
   "cell_type": "code",
   "execution_count": 13,
   "metadata": {
    "collapsed": true
   },
   "outputs": [],
   "source": [
    "import json\n",
    "\n",
    "url = 'https://hooks.glip.com/webhook/47c23015-f6af-452f-95bf-4052574a06da'\n",
    "#url = 'https://requestb.in/116in0n1'\n",
    "payload = {\"activity\":\"New Pull Request\",\"body\":\"Name:Paul Patorno\\nTitle:WB: Remove Watchtype Id from WatchbillDTO\\nLink: [Pull request](https://api.bitbucket.org/2.0/repositories/ARASTAMPS/stamps/pullrequests/1020)\\n\"}\n",
    "\n",
    "\n",
    "r = requests.post(url, json=payload)"
   ]
  },
  {
   "cell_type": "code",
   "execution_count": 5,
   "metadata": {
    "collapsed": false
   },
   "outputs": [
    {
     "data": {
      "text/plain": [
       "{'Content-Length': '15', 'Access-Control-Allow-Headers': 'Content-Type', 'X-Powered-By': 'Express', 'Vary': 'Accept-Encoding', 'Connection': 'keep-alive', 'ETag': 'W/\"f-v/Y1JusChTxrQUzPtNAKycooOTA\"', 'Access-Control-Allow-Credentials': 'true', 'Date': 'Fri, 25 Aug 2017 06:47:46 GMT', 'Access-Control-Allow-Origin': 'undefined', 'Access-Control-Allow-Methods': 'GET,PUT,POST,DELETE', 'Content-Type': 'application/json; charset=utf-8'}"
      ]
     },
     "execution_count": 5,
     "metadata": {},
     "output_type": "execute_result"
    }
   ],
   "source": [
    "r.headers"
   ]
  },
  {
   "cell_type": "code",
   "execution_count": 6,
   "metadata": {
    "collapsed": false
   },
   "outputs": [
    {
     "data": {
      "text/plain": [
       "u'{\"status\":\"OK\"}'"
      ]
     },
     "execution_count": 6,
     "metadata": {},
     "output_type": "execute_result"
    }
   ],
   "source": [
    "r.text\n"
   ]
  },
  {
   "cell_type": "code",
   "execution_count": 9,
   "metadata": {
    "collapsed": false
   },
   "outputs": [
    {
     "data": {
      "text/plain": [
       "'{\"status\":\"OK\"}'"
      ]
     },
     "execution_count": 9,
     "metadata": {},
     "output_type": "execute_result"
    }
   ],
   "source": [
    "r.content"
   ]
  },
  {
   "cell_type": "code",
   "execution_count": null,
   "metadata": {
    "collapsed": true
   },
   "outputs": [],
   "source": []
  }
 ],
 "metadata": {
  "kernelspec": {
   "display_name": "Python 2",
   "language": "python",
   "name": "python2"
  },
  "language_info": {
   "codemirror_mode": {
    "name": "ipython",
    "version": 2
   },
   "file_extension": ".py",
   "mimetype": "text/x-python",
   "name": "python",
   "nbconvert_exporter": "python",
   "pygments_lexer": "ipython2",
   "version": "2.7.11+"
  }
 },
 "nbformat": 4,
 "nbformat_minor": 2
}
